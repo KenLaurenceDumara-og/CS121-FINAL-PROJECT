{
 "cells": [
  {
   "cell_type": "code",
   "execution_count": null,
   "metadata": {},
   "outputs": [],
   "source": [
    "class BankAccount:\n",
    "\n",
    "    no_of_cust = 0\n",
    "    acc_num = 42010\n",
    "    \n",
    "    def __init__(self, name, mobile_no, initial_depo, pin):\n",
    "        \n",
    "        self.name = name\n",
    "        self.cust_acc_num = BankAccount.acc_num\n",
    "        self.mobile_no  = mobile_no\n",
    "        self.acc_balance = initial_depo\n",
    "        self.pin = pin\n",
    "        \n",
    "        BankAccount.acc_num = BankAccount.acc_num + 1\n",
    "        BankAccount.no_of_cust = BankAccount.no_of_cust + 1\n",
    "\n",
    "    def basic_details(self):\n",
    "        print(f\"\\nUser: {self.name}\\t\\t\\t Account No: {self.cust_acc_num}\\t\\t Balance: {self.acc_balance} Pesos\\n\")\n",
    "\n",
    "    def deposit(self):\n",
    "        print(\"\\n***********************************************************\")\n",
    "        print(\"|\\t\\t\\t\\t\\t\\tDeposit    \\t\\t\\t\\t\\t\\t  |\")\n",
    "        print(\"***********************************************************\")\n",
    "        amount = int(input(\"Enter amount to Deposit => \"))\n",
    "        if amount > 0:\n",
    "            self.acc_balance = self.acc_balance + amount\n",
    "            print(f\"\\n>>>> Transaction completed. Current Balance: {self.acc_balance} Pesos <<<<\")\n",
    "        else:\n",
    "            print(\"\\n\\t>>>> Invalid Amount!! Transaction Aborted <<<<\")\n",
    "\n",
    "    def withdrawl(self):\n",
    "        print(\"\\n***********************************************************\")\n",
    "        print(\"|\\t\\t\\t\\t\\t\\tWithdraw\\t\\t\\t\\t\\t\\t  |\")\n",
    "        print(\"***********************************************************\")\n",
    "        amount = int(input(\"Enter amount to Withdraw => \"))\n",
    "        if amount <= self.acc_balance and amount > 0:\n",
    "            self.acc_balance = self.acc_balance - amount\n",
    "            print(f\"\\n>> Transaction completed. Current Balance: {self.acc_balance} Pesos <<\")\n",
    "        else:\n",
    "            print(\"\\n\\t>>>> Invalid Amount!! Transaction Aborted <<<<\")\n",
    "\n",
    "    def payment(self, other):\n",
    "        print(\"\\n***********************************************************\")\n",
    "        print(\"|\\t\\t\\t\\t\\t\\tPayment\\t\\t\\t\\t\\t\\t\\t  |\")\n",
    "        print(\"***********************************************************\")\n",
    "        amount = int(input(\"Enter the amount to Pay => \"))\n",
    "        if amount <= self.acc_balance and amount > 0:\n",
    "            self.acc_balance = self.acc_balance - amount\n",
    "            other.acc_balance= other.acc_balance + amount\n",
    "            print(f\"\\n>> Transaction completed. Current Balance: {self.acc_balance} Pesos <<\")\n",
    "        else:\n",
    "            print(\"\\n\\t>>>> Invalid Amount!! Transaction Aborted <<<<\")\n"
   ]
  }
 ],
 "metadata": {
  "language_info": {
   "name": "python"
  },
  "orig_nbformat": 4
 },
 "nbformat": 4,
 "nbformat_minor": 2
}

def payment(self, other):
        print("\n***********************************************************")
        print("|\t\t\t\t\t\tPayment\t\t\t\t\t\t\t  |")
        print("*********************************************************")
        amount = int(input("Enter the amount to Pay => "))
        if amount <= self.acc_balance and amount > 0:
            self.acc_balance = self.acc_balance - amount
            other.acc_balance= other.acc_balance + amount
            print(f"\n>> Transaction completed. Current Balance: {self.acc_balance} Pesos <<")
        else:
            print("\n\t>>>> Invalid Amount!! Transaction Aborted <<<<")


if _name_ == '_main_':

    cust1 = BankAccount(name="KEN ",    mobile_no=987654321, initial_depo=1000, pin=1232)
    cust2 = BankAccount(name="JAN JAN", mobile_no=98765432, initial_depo=2000, pin=4561)
    cust3 = BankAccount(name="Criezel", mobile_no=95652663, initial_depo=50000, pin=7892)
    cust4 = BankAccount(name="Jennelyn", mobile_no=95734737, initial_depo=50000, pin=8843)
    print("The Number of Customers => ",BankAccount.no_of_cust)
    print(cust1.basic_details())
    print(cust2.basic_details())
    print(cust3.basic_details())
    print(cust4.basic_details())
    # cust1.deposit()
    # print(cust1.basic_details())
    # cust1.withdrawl()
    # print(cust1.basic_details())
    cust1.payment(cust2)
    print(cust2.basic_details())
