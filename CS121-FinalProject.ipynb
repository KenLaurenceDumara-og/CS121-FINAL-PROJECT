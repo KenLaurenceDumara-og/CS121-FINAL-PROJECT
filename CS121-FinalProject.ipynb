{
 "cells": [
  {
   "cell_type": "code",
   "execution_count": 3,
   "metadata": {},
   "outputs": [
    {
     "name": "stdout",
     "output_type": "stream",
     "text": [
      "***************************************\n",
      "|\t\tWELCOME  TO OUR BANK\t\t\t\t|\n",
      "***************************************\n"
     ]
    }
   ],
   "source": [
    "Bank_Balance=90000\n",
    "OLD_PIN=1234\n",
    "\n",
    "count=0 \n",
    "while(count<3):\n",
    "    print(\"***************************************\")\n",
    "    print(\"|\\t\\tWELCOME  TO OUR BANK\\t\\t\\t\\t|\")\n",
    "    print(\"***************************************\")\n",
    "    PIN = int(input(\"\\t\\t\\tEnter 4 digit  PIN => \"))\n",
    "    print(\"_______________________________________\")\n",
    "\n",
    "    if(PIN == OLD_PIN):\n",
    "        print(\"\\n== Please Choose the transaction you want ==\")\n",
    "        print(\"\\t\\t\\t1.WITHDRAW 👉👉\")\n",
    "        print(\"\\t\\t\\t2.DEPOSIT 👉👉\")\n",
    "        print(\"\\t\\t\\t3.CLICK THIS TO RESET YOUR PIN 👉👉\")\n",
    "        print(\"\\t\\t\\t4.CHECK YOUR BALANCE👉👉\")\n",
    "        Open = int(input(\"Please Enter your Choice => \"))\n",
    "        if (Open == 1):\n",
    "            print(\"\\nMINIMUM=100 $$$$ MAXIMUM = 99999(witdrawal ammount)\")\n",
    "            print(\"__________________________________________________\")\n",
    "            Withdraw = int(input(\"Enter the  ammount you want to Withdraw\"))\n",
    "            if(100 < Withdraw and Withdraw <99999):\n",
    "                print(\"\\t\\t>> Take your amount\",Withdraw, \"<<\")\n",
    "                print(\"\\t\\tThank You for using  our  Ban\\n\")\n",
    "                Bank_Balance = Bank_Balance - Withdraw\n",
    "            elif(100 >= Withdraw):\n"
   ]
  },
  {
   "cell_type": "code",
   "execution_count": null,
   "metadata": {},
   "outputs": [],
   "source": []
  }
 ],
 "metadata": {
  "kernelspec": {
   "display_name": "Python 3.11.0 64-bit",
   "language": "python",
   "name": "python3"
  },
  "language_info": {
   "codemirror_mode": {
    "name": "ipython",
    "version": 3
   },
   "file_extension": ".py",
   "mimetype": "text/x-python",
   "name": "python",
   "nbconvert_exporter": "python",
   "pygments_lexer": "ipython3",
   "version": "3.11.0"
  },
  "orig_nbformat": 4,
  "vscode": {
   "interpreter": {
    "hash": "d40a6a56578eeef5e9bc86b33bac65e9089ce0e4e93898164bf02014d00d1394"
   }
  }
 },
 "nbformat": 4,
 "nbformat_minor": 2
}
